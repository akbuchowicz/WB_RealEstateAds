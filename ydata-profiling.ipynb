{
 "cells": [
  {
   "cell_type": "code",
   "execution_count": 9,
   "metadata": {},
   "outputs": [],
   "source": [
    "import pandas as pd"
   ]
  },
  {
   "cell_type": "code",
   "execution_count": null,
   "metadata": {},
   "outputs": [],
   "source": [
    "pip install ydata_profiling"
   ]
  },
  {
   "cell_type": "code",
   "execution_count": 20,
   "metadata": {},
   "outputs": [],
   "source": [
    "from ydata_profiling import ProfileReport"
   ]
  },
  {
   "cell_type": "code",
   "execution_count": 21,
   "metadata": {},
   "outputs": [],
   "source": [
    "df = pd.read_csv('D:\\Studia\\II Stopien\\Semestr 4\\Warsztaty\\OLX\\P2\\PrzefiltrowanaRamka.csv')"
   ]
  },
  {
   "cell_type": "code",
   "execution_count": 22,
   "metadata": {},
   "outputs": [
    {
     "data": {
      "text/html": [
       "<div>\n",
       "<style scoped>\n",
       "    .dataframe tbody tr th:only-of-type {\n",
       "        vertical-align: middle;\n",
       "    }\n",
       "\n",
       "    .dataframe tbody tr th {\n",
       "        vertical-align: top;\n",
       "    }\n",
       "\n",
       "    .dataframe thead th {\n",
       "        text-align: right;\n",
       "    }\n",
       "</style>\n",
       "<table border=\"1\" class=\"dataframe\">\n",
       "  <thead>\n",
       "    <tr style=\"text-align: right;\">\n",
       "      <th></th>\n",
       "      <th>market</th>\n",
       "      <th>created_at</th>\n",
       "      <th>description</th>\n",
       "      <th>price</th>\n",
       "      <th>m</th>\n",
       "      <th>rooms_num</th>\n",
       "      <th>building_type</th>\n",
       "      <th>floor_no</th>\n",
       "      <th>building_floors_num</th>\n",
       "      <th>building_material</th>\n",
       "      <th>...</th>\n",
       "      <th>Topic 21</th>\n",
       "      <th>Topic 22</th>\n",
       "      <th>Topic 23</th>\n",
       "      <th>Topic 24</th>\n",
       "      <th>Topic 25</th>\n",
       "      <th>Topic 26</th>\n",
       "      <th>Topic 27</th>\n",
       "      <th>Topic 28</th>\n",
       "      <th>Topic 29</th>\n",
       "      <th>district_label</th>\n",
       "    </tr>\n",
       "  </thead>\n",
       "  <tbody>\n",
       "    <tr>\n",
       "      <th>0</th>\n",
       "      <td>2</td>\n",
       "      <td>2018-01-08 11:27:35</td>\n",
       "      <td>&lt;p&gt;Zapraszam do zapoznania się z ofertą sprzed...</td>\n",
       "      <td>289000.0</td>\n",
       "      <td>48.000000</td>\n",
       "      <td>3</td>\n",
       "      <td>1.0</td>\n",
       "      <td>1.0</td>\n",
       "      <td>4.0</td>\n",
       "      <td>NaN</td>\n",
       "      <td>...</td>\n",
       "      <td>1.931281e-307</td>\n",
       "      <td>8.066192e-308</td>\n",
       "      <td>2.241937e-307</td>\n",
       "      <td>2.488141e-307</td>\n",
       "      <td>3.560156e-307</td>\n",
       "      <td>1.089161e-307</td>\n",
       "      <td>1.527364e-307</td>\n",
       "      <td>1.052543e-307</td>\n",
       "      <td>1.885789e-307</td>\n",
       "      <td>27</td>\n",
       "    </tr>\n",
       "    <tr>\n",
       "      <th>1</th>\n",
       "      <td>2</td>\n",
       "      <td>2018-01-25 11:11:31</td>\n",
       "      <td>&lt;p&gt;Zapraszam do zapoznania się z ofertą sprzed...</td>\n",
       "      <td>379000.0</td>\n",
       "      <td>61.000000</td>\n",
       "      <td>3</td>\n",
       "      <td>1.0</td>\n",
       "      <td>0.0</td>\n",
       "      <td>4.0</td>\n",
       "      <td>NaN</td>\n",
       "      <td>...</td>\n",
       "      <td>2.019856e-04</td>\n",
       "      <td>1.065165e-04</td>\n",
       "      <td>5.931803e-04</td>\n",
       "      <td>2.814421e-04</td>\n",
       "      <td>5.154491e-04</td>\n",
       "      <td>1.089486e-04</td>\n",
       "      <td>3.779765e-04</td>\n",
       "      <td>1.148382e-04</td>\n",
       "      <td>2.413455e-04</td>\n",
       "      <td>27</td>\n",
       "    </tr>\n",
       "    <tr>\n",
       "      <th>2</th>\n",
       "      <td>2</td>\n",
       "      <td>2018-01-11 05:55:12</td>\n",
       "      <td>&lt;p&gt;Weychan Nieruchomości Monika Hałas - Kurcza...</td>\n",
       "      <td>339000.0</td>\n",
       "      <td>63.000000</td>\n",
       "      <td>3</td>\n",
       "      <td>1.0</td>\n",
       "      <td>3.0</td>\n",
       "      <td>4.0</td>\n",
       "      <td>2.0</td>\n",
       "      <td>...</td>\n",
       "      <td>3.800732e-03</td>\n",
       "      <td>2.209178e-03</td>\n",
       "      <td>2.069247e-03</td>\n",
       "      <td>4.369802e-03</td>\n",
       "      <td>4.764892e-03</td>\n",
       "      <td>1.937723e-03</td>\n",
       "      <td>2.134303e-03</td>\n",
       "      <td>1.535459e-03</td>\n",
       "      <td>2.438574e-03</td>\n",
       "      <td>27</td>\n",
       "    </tr>\n",
       "    <tr>\n",
       "      <th>3</th>\n",
       "      <td>2</td>\n",
       "      <td>2018-01-30 14:38:39</td>\n",
       "      <td>&lt;p&gt;Oferuję na sprzedaż jasne i zadbane mieszka...</td>\n",
       "      <td>330000.0</td>\n",
       "      <td>59.200001</td>\n",
       "      <td>3</td>\n",
       "      <td>1.0</td>\n",
       "      <td>1.0</td>\n",
       "      <td>4.0</td>\n",
       "      <td>2.0</td>\n",
       "      <td>...</td>\n",
       "      <td>4.325130e-05</td>\n",
       "      <td>1.976439e-05</td>\n",
       "      <td>2.912086e-05</td>\n",
       "      <td>5.924220e-05</td>\n",
       "      <td>6.405117e-05</td>\n",
       "      <td>2.883527e-05</td>\n",
       "      <td>2.801014e-05</td>\n",
       "      <td>1.926692e-05</td>\n",
       "      <td>3.855275e-05</td>\n",
       "      <td>27</td>\n",
       "    </tr>\n",
       "    <tr>\n",
       "      <th>4</th>\n",
       "      <td>2</td>\n",
       "      <td>2018-01-18 14:22:29</td>\n",
       "      <td>&lt;p&gt;&lt;strong&gt;Dwa pokoje na niskim piętrze tuż pr...</td>\n",
       "      <td>259000.0</td>\n",
       "      <td>38.000000</td>\n",
       "      <td>2</td>\n",
       "      <td>1.0</td>\n",
       "      <td>1.0</td>\n",
       "      <td>10.0</td>\n",
       "      <td>2.0</td>\n",
       "      <td>...</td>\n",
       "      <td>8.863763e-04</td>\n",
       "      <td>4.121158e-04</td>\n",
       "      <td>4.647455e-03</td>\n",
       "      <td>1.070394e-03</td>\n",
       "      <td>1.756168e-03</td>\n",
       "      <td>4.691628e-04</td>\n",
       "      <td>2.187919e-03</td>\n",
       "      <td>4.904569e-04</td>\n",
       "      <td>1.040398e-03</td>\n",
       "      <td>27</td>\n",
       "    </tr>\n",
       "  </tbody>\n",
       "</table>\n",
       "<p>5 rows × 74 columns</p>\n",
       "</div>"
      ],
      "text/plain": [
       "   market           created_at  \\\n",
       "0       2  2018-01-08 11:27:35   \n",
       "1       2  2018-01-25 11:11:31   \n",
       "2       2  2018-01-11 05:55:12   \n",
       "3       2  2018-01-30 14:38:39   \n",
       "4       2  2018-01-18 14:22:29   \n",
       "\n",
       "                                         description     price          m  \\\n",
       "0  <p>Zapraszam do zapoznania się z ofertą sprzed...  289000.0  48.000000   \n",
       "1  <p>Zapraszam do zapoznania się z ofertą sprzed...  379000.0  61.000000   \n",
       "2  <p>Weychan Nieruchomości Monika Hałas - Kurcza...  339000.0  63.000000   \n",
       "3  <p>Oferuję na sprzedaż jasne i zadbane mieszka...  330000.0  59.200001   \n",
       "4  <p><strong>Dwa pokoje na niskim piętrze tuż pr...  259000.0  38.000000   \n",
       "\n",
       "   rooms_num  building_type  floor_no  building_floors_num  building_material  \\\n",
       "0          3            1.0       1.0                  4.0                NaN   \n",
       "1          3            1.0       0.0                  4.0                NaN   \n",
       "2          3            1.0       3.0                  4.0                2.0   \n",
       "3          3            1.0       1.0                  4.0                2.0   \n",
       "4          2            1.0       1.0                 10.0                2.0   \n",
       "\n",
       "   ...       Topic 21       Topic 22       Topic 23       Topic 24  \\\n",
       "0  ...  1.931281e-307  8.066192e-308  2.241937e-307  2.488141e-307   \n",
       "1  ...   2.019856e-04   1.065165e-04   5.931803e-04   2.814421e-04   \n",
       "2  ...   3.800732e-03   2.209178e-03   2.069247e-03   4.369802e-03   \n",
       "3  ...   4.325130e-05   1.976439e-05   2.912086e-05   5.924220e-05   \n",
       "4  ...   8.863763e-04   4.121158e-04   4.647455e-03   1.070394e-03   \n",
       "\n",
       "        Topic 25       Topic 26       Topic 27       Topic 28       Topic 29  \\\n",
       "0  3.560156e-307  1.089161e-307  1.527364e-307  1.052543e-307  1.885789e-307   \n",
       "1   5.154491e-04   1.089486e-04   3.779765e-04   1.148382e-04   2.413455e-04   \n",
       "2   4.764892e-03   1.937723e-03   2.134303e-03   1.535459e-03   2.438574e-03   \n",
       "3   6.405117e-05   2.883527e-05   2.801014e-05   1.926692e-05   3.855275e-05   \n",
       "4   1.756168e-03   4.691628e-04   2.187919e-03   4.904569e-04   1.040398e-03   \n",
       "\n",
       "   district_label  \n",
       "0              27  \n",
       "1              27  \n",
       "2              27  \n",
       "3              27  \n",
       "4              27  \n",
       "\n",
       "[5 rows x 74 columns]"
      ]
     },
     "execution_count": 22,
     "metadata": {},
     "output_type": "execute_result"
    }
   ],
   "source": [
    "df.head()"
   ]
  },
  {
   "cell_type": "code",
   "execution_count": 25,
   "metadata": {},
   "outputs": [],
   "source": [
    "df.drop(columns=['description'], inplace=True)"
   ]
  },
  {
   "cell_type": "code",
   "execution_count": 26,
   "metadata": {},
   "outputs": [],
   "source": [
    "profile = ProfileReport(df, minimal=True)"
   ]
  },
  {
   "cell_type": "code",
   "execution_count": 27,
   "metadata": {},
   "outputs": [
    {
     "data": {
      "text/plain": [
       "<bound method ProfileReport.to_notebook_iframe of >"
      ]
     },
     "execution_count": 27,
     "metadata": {},
     "output_type": "execute_result"
    }
   ],
   "source": [
    "profile.to_notebook_iframe"
   ]
  },
  {
   "cell_type": "code",
   "execution_count": 28,
   "metadata": {},
   "outputs": [
    {
     "data": {
      "application/vnd.jupyter.widget-view+json": {
       "model_id": "6af4bc381cef4f21a22b5f5343352d7d",
       "version_major": 2,
       "version_minor": 0
      },
      "text/plain": [
       "Summarize dataset:   0%|          | 0/5 [00:00<?, ?it/s]"
      ]
     },
     "metadata": {},
     "output_type": "display_data"
    },
    {
     "data": {
      "application/vnd.jupyter.widget-view+json": {
       "model_id": "8bff025b12854976b2f8a9032d58d86c",
       "version_major": 2,
       "version_minor": 0
      },
      "text/plain": [
       "Generate report structure:   0%|          | 0/1 [00:00<?, ?it/s]"
      ]
     },
     "metadata": {},
     "output_type": "display_data"
    },
    {
     "data": {
      "application/vnd.jupyter.widget-view+json": {
       "model_id": "cb89df0f8b31482e998973656de92924",
       "version_major": 2,
       "version_minor": 0
      },
      "text/plain": [
       "Render widgets:   0%|          | 0/1 [00:00<?, ?it/s]"
      ]
     },
     "metadata": {},
     "output_type": "display_data"
    },
    {
     "data": {
      "application/vnd.jupyter.widget-view+json": {
       "model_id": "a3f0e6139c744c5389c5661484723705",
       "version_major": 2,
       "version_minor": 0
      },
      "text/plain": [
       "VBox(children=(Tab(children=(Tab(children=(GridBox(children=(VBox(children=(GridspecLayout(children=(HTML(valu…"
      ]
     },
     "metadata": {},
     "output_type": "display_data"
    }
   ],
   "source": [
    "profile.to_widgets()"
   ]
  }
 ],
 "metadata": {
  "kernelspec": {
   "display_name": "Python 3",
   "language": "python",
   "name": "python3"
  },
  "language_info": {
   "codemirror_mode": {
    "name": "ipython",
    "version": 3
   },
   "file_extension": ".py",
   "mimetype": "text/x-python",
   "name": "python",
   "nbconvert_exporter": "python",
   "pygments_lexer": "ipython3",
   "version": "3.11.5"
  }
 },
 "nbformat": 4,
 "nbformat_minor": 2
}
